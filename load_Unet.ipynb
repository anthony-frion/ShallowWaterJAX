{
  "nbformat": 4,
  "nbformat_minor": 0,
  "metadata": {
    "colab": {
      "provenance": []
    },
    "kernelspec": {
      "name": "python3",
      "display_name": "Python 3"
    },
    "language_info": {
      "name": "python"
    }
  },
  "cells": [
    {
      "cell_type": "code",
      "source": [
        "import torch\n",
        "import numpy as np\n",
        "import pickle\n",
        "import pandas as pd\n",
        "import os\n"
      ],
      "metadata": {
        "id": "J_mdgJ-9vF0-"
      },
      "execution_count": null,
      "outputs": []
    },
    {
      "cell_type": "code",
      "execution_count": null,
      "metadata": {
        "colab": {
          "base_uri": "https://localhost:8080/"
        },
        "id": "7voAE4dfu7kS",
        "outputId": "b0e89f60-1cd2-41da-b9cc-1a6ec7f66d07"
      },
      "outputs": [
        {
          "output_type": "stream",
          "name": "stdout",
          "text": [
            "Cloning into 'ShallowWaterJAX'...\n",
            "remote: Enumerating objects: 32, done.\u001b[K\n",
            "remote: Counting objects: 100% (32/32), done.\u001b[K\n",
            "remote: Compressing objects: 100% (28/28), done.\u001b[K\n",
            "remote: Total 32 (delta 8), reused 0 (delta 0), pack-reused 0 (from 0)\u001b[K\n",
            "Receiving objects: 100% (32/32), 8.58 MiB | 7.32 MiB/s, done.\n",
            "Resolving deltas: 100% (8/8), done.\n"
          ]
        }
      ],
      "source": [
        "!git clone https://github.com/anthony-frion/ShallowWaterJAX"
      ]
    },
    {
      "cell_type": "code",
      "source": [
        "def load_model(model, filename='my_checkpoint.pth.tar', device='cpu'):\n",
        "    # with torch.no_grad():\n",
        "    assert os.path.isfile(filename), f\"Error: {filename} not found\"\n",
        "    if os.path.isfile(filename):\n",
        "        print(\"DEVICE on Loading model: \", device)\n",
        "        checkpoint = torch.load(filename, map_location=torch.device(device))\n",
        "        # checkpoint = torch.load(filename, map_location=torch.device('cuda'))\n",
        "        # print(\"=> Loading model:\", checkpoint)\n",
        "        print(\"+++++++++++++++++++ LOADING trained model ++++++++++++++++++++++++++\")\n",
        "        model.load_state_dict(checkpoint['model_state_dict'], weight_)\n",
        "        return model\n",
        "\n",
        "def get_checkpoint(filename='my_checkpoint.pth.tar', device='cpu'):\n",
        "  # with torch.no_grad():\n",
        "    assert os.path.isfile(filename), f\"Error: {filename} not found\"\n",
        "    if os.path.isfile(filename):\n",
        "        checkpoint = torch.load(filename, map_location=torch.device(device), weights_only=True)\n",
        "        return checkpoint"
      ],
      "metadata": {
        "id": "Jf6ypLBVwgkU"
      },
      "execution_count": null,
      "outputs": []
    },
    {
      "cell_type": "code",
      "source": [
        "%cd ShallowWaterJAX"
      ],
      "metadata": {
        "colab": {
          "base_uri": "https://localhost:8080/"
        },
        "id": "temv-rO9xF_t",
        "outputId": "69d3272d-4ae4-4ff9-c25c-30adfe589e7f"
      },
      "execution_count": null,
      "outputs": [
        {
          "output_type": "stream",
          "name": "stdout",
          "text": [
            "/content/ShallowWaterJAX\n"
          ]
        }
      ]
    },
    {
      "cell_type": "code",
      "source": [
        "!ls"
      ],
      "metadata": {
        "colab": {
          "base_uri": "https://localhost:8080/"
        },
        "id": "dwCLC9MGxb-j",
        "outputId": "b2fadc0e-7e99-49a1-ecf7-4a7e58d8b94f"
      },
      "execution_count": null,
      "outputs": [
        {
          "output_type": "stream",
          "name": "stdout",
          "text": [
            "4DVar.ipynb  model.pth.tar  pytorch_assimilation.py\tpytorch_model.py\tpytorch_swe_inv.py\n",
            "data.pkl     project.md     pytorch_emulator_module.py\tpytorch_observation.py\tREADME.md\n"
          ]
        }
      ]
    },
    {
      "cell_type": "code",
      "source": [
        "filename = 'model.pth.tar'\n",
        "checkpoint = get_checkpoint(filename)"
      ],
      "metadata": {
        "id": "Ioaxm3Xjwj48"
      },
      "execution_count": null,
      "outputs": []
    },
    {
      "cell_type": "code",
      "source": [
        "keys = [x for x in checkpoint['model_state_dict']]\n",
        "print(keys) # See the keys of all tensors stored in there\n",
        "for key in keys:\n",
        "  print(key, checkpoint['model_state_dict'][key].shape)"
      ],
      "metadata": {
        "colab": {
          "base_uri": "https://localhost:8080/"
        },
        "id": "S52yXlJy0x44",
        "outputId": "2258867b-0d8a-4fb2-fae8-2d1c629ec4ea"
      },
      "execution_count": null,
      "outputs": [
        {
          "output_type": "stream",
          "name": "stdout",
          "text": [
            "['dynamics.weight', 'dynamics.bias', 'statics.weight', 'statics.bias', 'encoder.0.conv.0.weight', 'encoder.0.conv.0.bias', 'encoder.0.conv.1.weight', 'encoder.0.conv.1.bias', 'encoder.0.conv.3.weight', 'encoder.0.conv.3.bias', 'encoder.0.conv.4.weight', 'encoder.0.conv.4.bias', 'encoder.1.conv.0.weight', 'encoder.1.conv.0.bias', 'encoder.1.conv.1.weight', 'encoder.1.conv.1.bias', 'encoder.1.conv.3.weight', 'encoder.1.conv.3.bias', 'encoder.1.conv.4.weight', 'encoder.1.conv.4.bias', 'encoder.2.conv.0.weight', 'encoder.2.conv.0.bias', 'encoder.2.conv.1.weight', 'encoder.2.conv.1.bias', 'encoder.2.conv.3.weight', 'encoder.2.conv.3.bias', 'encoder.2.conv.4.weight', 'encoder.2.conv.4.bias', 'encoder.3.conv.0.weight', 'encoder.3.conv.0.bias', 'encoder.3.conv.1.weight', 'encoder.3.conv.1.bias', 'encoder.3.conv.3.weight', 'encoder.3.conv.3.bias', 'encoder.3.conv.4.weight', 'encoder.3.conv.4.bias', 'encoder.4.conv.0.weight', 'encoder.4.conv.0.bias', 'encoder.4.conv.1.weight', 'encoder.4.conv.1.bias', 'encoder.4.conv.3.weight', 'encoder.4.conv.3.bias', 'encoder.4.conv.4.weight', 'encoder.4.conv.4.bias', 'up.0.weight', 'up.0.bias', 'up.1.weight', 'up.1.bias', 'up.2.weight', 'up.2.bias', 'up.3.weight', 'up.3.bias', 'decoder.0.conv.0.weight', 'decoder.0.conv.0.bias', 'decoder.0.conv.1.weight', 'decoder.0.conv.1.bias', 'decoder.0.conv.3.weight', 'decoder.0.conv.3.bias', 'decoder.0.conv.4.weight', 'decoder.0.conv.4.bias', 'decoder.1.conv.0.weight', 'decoder.1.conv.0.bias', 'decoder.1.conv.1.weight', 'decoder.1.conv.1.bias', 'decoder.1.conv.3.weight', 'decoder.1.conv.3.bias', 'decoder.1.conv.4.weight', 'decoder.1.conv.4.bias', 'decoder.2.conv.0.weight', 'decoder.2.conv.0.bias', 'decoder.2.conv.1.weight', 'decoder.2.conv.1.bias', 'decoder.2.conv.3.weight', 'decoder.2.conv.3.bias', 'decoder.2.conv.4.weight', 'decoder.2.conv.4.bias', 'decoder.3.conv.0.weight', 'decoder.3.conv.0.bias', 'decoder.3.conv.1.weight', 'decoder.3.conv.1.bias', 'decoder.3.conv.3.weight', 'decoder.3.conv.3.bias', 'decoder.3.conv.4.weight', 'decoder.3.conv.4.bias', 'output.weight', 'output.bias']\n",
            "dynamics.weight torch.Size([8, 3, 3, 3])\n",
            "dynamics.bias torch.Size([8])\n",
            "statics.weight torch.Size([8, 2, 3, 3])\n",
            "statics.bias torch.Size([8])\n",
            "encoder.0.conv.0.weight torch.Size([16, 16, 3, 3])\n",
            "encoder.0.conv.0.bias torch.Size([16])\n",
            "encoder.0.conv.1.weight torch.Size([16])\n",
            "encoder.0.conv.1.bias torch.Size([16])\n",
            "encoder.0.conv.3.weight torch.Size([16, 16, 3, 3])\n",
            "encoder.0.conv.3.bias torch.Size([16])\n",
            "encoder.0.conv.4.weight torch.Size([16])\n",
            "encoder.0.conv.4.bias torch.Size([16])\n",
            "encoder.1.conv.0.weight torch.Size([32, 16, 3, 3])\n",
            "encoder.1.conv.0.bias torch.Size([32])\n",
            "encoder.1.conv.1.weight torch.Size([32])\n",
            "encoder.1.conv.1.bias torch.Size([32])\n",
            "encoder.1.conv.3.weight torch.Size([32, 32, 3, 3])\n",
            "encoder.1.conv.3.bias torch.Size([32])\n",
            "encoder.1.conv.4.weight torch.Size([32])\n",
            "encoder.1.conv.4.bias torch.Size([32])\n",
            "encoder.2.conv.0.weight torch.Size([64, 32, 3, 3])\n",
            "encoder.2.conv.0.bias torch.Size([64])\n",
            "encoder.2.conv.1.weight torch.Size([64])\n",
            "encoder.2.conv.1.bias torch.Size([64])\n",
            "encoder.2.conv.3.weight torch.Size([64, 64, 3, 3])\n",
            "encoder.2.conv.3.bias torch.Size([64])\n",
            "encoder.2.conv.4.weight torch.Size([64])\n",
            "encoder.2.conv.4.bias torch.Size([64])\n",
            "encoder.3.conv.0.weight torch.Size([128, 64, 3, 3])\n",
            "encoder.3.conv.0.bias torch.Size([128])\n",
            "encoder.3.conv.1.weight torch.Size([128])\n",
            "encoder.3.conv.1.bias torch.Size([128])\n",
            "encoder.3.conv.3.weight torch.Size([128, 128, 3, 3])\n",
            "encoder.3.conv.3.bias torch.Size([128])\n",
            "encoder.3.conv.4.weight torch.Size([128])\n",
            "encoder.3.conv.4.bias torch.Size([128])\n",
            "encoder.4.conv.0.weight torch.Size([256, 128, 3, 3])\n",
            "encoder.4.conv.0.bias torch.Size([256])\n",
            "encoder.4.conv.1.weight torch.Size([256])\n",
            "encoder.4.conv.1.bias torch.Size([256])\n",
            "encoder.4.conv.3.weight torch.Size([256, 256, 3, 3])\n",
            "encoder.4.conv.3.bias torch.Size([256])\n",
            "encoder.4.conv.4.weight torch.Size([256])\n",
            "encoder.4.conv.4.bias torch.Size([256])\n",
            "up.0.weight torch.Size([256, 128, 2, 2])\n",
            "up.0.bias torch.Size([128])\n",
            "up.1.weight torch.Size([128, 64, 2, 2])\n",
            "up.1.bias torch.Size([64])\n",
            "up.2.weight torch.Size([64, 32, 2, 2])\n",
            "up.2.bias torch.Size([32])\n",
            "up.3.weight torch.Size([32, 16, 2, 2])\n",
            "up.3.bias torch.Size([16])\n",
            "decoder.0.conv.0.weight torch.Size([128, 256, 3, 3])\n",
            "decoder.0.conv.0.bias torch.Size([128])\n",
            "decoder.0.conv.1.weight torch.Size([128])\n",
            "decoder.0.conv.1.bias torch.Size([128])\n",
            "decoder.0.conv.3.weight torch.Size([128, 128, 3, 3])\n",
            "decoder.0.conv.3.bias torch.Size([128])\n",
            "decoder.0.conv.4.weight torch.Size([128])\n",
            "decoder.0.conv.4.bias torch.Size([128])\n",
            "decoder.1.conv.0.weight torch.Size([64, 128, 3, 3])\n",
            "decoder.1.conv.0.bias torch.Size([64])\n",
            "decoder.1.conv.1.weight torch.Size([64])\n",
            "decoder.1.conv.1.bias torch.Size([64])\n",
            "decoder.1.conv.3.weight torch.Size([64, 64, 3, 3])\n",
            "decoder.1.conv.3.bias torch.Size([64])\n",
            "decoder.1.conv.4.weight torch.Size([64])\n",
            "decoder.1.conv.4.bias torch.Size([64])\n",
            "decoder.2.conv.0.weight torch.Size([32, 64, 3, 3])\n",
            "decoder.2.conv.0.bias torch.Size([32])\n",
            "decoder.2.conv.1.weight torch.Size([32])\n",
            "decoder.2.conv.1.bias torch.Size([32])\n",
            "decoder.2.conv.3.weight torch.Size([32, 32, 3, 3])\n",
            "decoder.2.conv.3.bias torch.Size([32])\n",
            "decoder.2.conv.4.weight torch.Size([32])\n",
            "decoder.2.conv.4.bias torch.Size([32])\n",
            "decoder.3.conv.0.weight torch.Size([16, 32, 3, 3])\n",
            "decoder.3.conv.0.bias torch.Size([16])\n",
            "decoder.3.conv.1.weight torch.Size([16])\n",
            "decoder.3.conv.1.bias torch.Size([16])\n",
            "decoder.3.conv.3.weight torch.Size([16, 16, 3, 3])\n",
            "decoder.3.conv.3.bias torch.Size([16])\n",
            "decoder.3.conv.4.weight torch.Size([16])\n",
            "decoder.3.conv.4.bias torch.Size([16])\n",
            "output.weight torch.Size([3, 16, 3, 3])\n",
            "output.bias torch.Size([3])\n"
          ]
        }
      ]
    },
    {
      "cell_type": "code",
      "source": [
        "from pytorch_model import UNET2D\n",
        "DEVICE = 'cpu'\n",
        "\n",
        "network_params = {\n",
        "    'name': 'UNET2D',\n",
        "    'condi_net': False,\n",
        "    'in_channels': [3, 2],\n",
        "    'out_channels': [3],\n",
        "    'features': [16, 32, 64, 128, 256],\n",
        "    'kernel_size': 3,\n",
        "    'stride': 1,\n",
        "    'padding': 1,\n",
        "    'norm_type': 'GroupNorm',\n",
        "    'activation': 'SiLU',\n",
        "    'num_layers': 5,\n",
        "}\n",
        "\n",
        "model = UNET2D(**network_params)\n",
        "model = load_model(swe_dxdt, filename).to(DEVICE)"
      ],
      "metadata": {
        "colab": {
          "base_uri": "https://localhost:8080/"
        },
        "id": "fHrfkhP_8qlY",
        "outputId": "36749f2f-9614-4f24-99cb-a7a1b5cfe8e1"
      },
      "execution_count": null,
      "outputs": [
        {
          "output_type": "stream",
          "name": "stdout",
          "text": [
            "DEVICE on Loading model:  cpu\n",
            "+++++++++++++++++++ LOADING trained model ++++++++++++++++++++++++++\n"
          ]
        },
        {
          "output_type": "stream",
          "name": "stderr",
          "text": [
            "<ipython-input-21-4f881d23b9a5>:6: FutureWarning: You are using `torch.load` with `weights_only=False` (the current default value), which uses the default pickle module implicitly. It is possible to construct malicious pickle data which will execute arbitrary code during unpickling (See https://github.com/pytorch/pytorch/blob/main/SECURITY.md#untrusted-models for more details). In a future release, the default value for `weights_only` will be flipped to `True`. This limits the functions that could be executed during unpickling. Arbitrary objects will no longer be allowed to be loaded via this mode unless they are explicitly allowlisted by the user via `torch.serialization.add_safe_globals`. We recommend you start setting `weights_only=True` for any use case where you don't have full control of the loaded file. Please open an issue on GitHub for any issues related to this experimental feature.\n",
            "  checkpoint = torch.load(filename, map_location=torch.device(device))\n"
          ]
        }
      ]
    },
    {
      "cell_type": "code",
      "source": [
        "print(model)"
      ],
      "metadata": {
        "colab": {
          "base_uri": "https://localhost:8080/"
        },
        "id": "LiMwjK7HBWZo",
        "outputId": "ea6c967a-3085-4cfe-b817-71f7260673cf"
      },
      "execution_count": null,
      "outputs": [
        {
          "output_type": "stream",
          "name": "stdout",
          "text": [
            "UNET2D(\n",
            "  (dynamics): Conv2d(3, 8, kernel_size=(3, 3), stride=(1, 1), padding=(1, 1))\n",
            "  (statics): Conv2d(2, 8, kernel_size=(3, 3), stride=(1, 1), padding=(1, 1))\n",
            "  (encoder): ModuleList(\n",
            "    (0): DoubleConv2D(\n",
            "      (conv): Sequential(\n",
            "        (0): Conv2d(16, 16, kernel_size=(3, 3), stride=(1, 1), padding=(1, 1))\n",
            "        (1): GroupNorm(4, 16, eps=1e-05, affine=True)\n",
            "        (2): SiLU(inplace=True)\n",
            "        (3): Conv2d(16, 16, kernel_size=(3, 3), stride=(1, 1), padding=(1, 1))\n",
            "        (4): GroupNorm(4, 16, eps=1e-05, affine=True)\n",
            "        (5): SiLU(inplace=True)\n",
            "      )\n",
            "    )\n",
            "    (1): DoubleConv2D(\n",
            "      (conv): Sequential(\n",
            "        (0): Conv2d(16, 32, kernel_size=(3, 3), stride=(1, 1), padding=(1, 1))\n",
            "        (1): GroupNorm(8, 32, eps=1e-05, affine=True)\n",
            "        (2): SiLU(inplace=True)\n",
            "        (3): Conv2d(32, 32, kernel_size=(3, 3), stride=(1, 1), padding=(1, 1))\n",
            "        (4): GroupNorm(8, 32, eps=1e-05, affine=True)\n",
            "        (5): SiLU(inplace=True)\n",
            "      )\n",
            "    )\n",
            "    (2): DoubleConv2D(\n",
            "      (conv): Sequential(\n",
            "        (0): Conv2d(32, 64, kernel_size=(3, 3), stride=(1, 1), padding=(1, 1))\n",
            "        (1): GroupNorm(16, 64, eps=1e-05, affine=True)\n",
            "        (2): SiLU(inplace=True)\n",
            "        (3): Conv2d(64, 64, kernel_size=(3, 3), stride=(1, 1), padding=(1, 1))\n",
            "        (4): GroupNorm(16, 64, eps=1e-05, affine=True)\n",
            "        (5): SiLU(inplace=True)\n",
            "      )\n",
            "    )\n",
            "    (3): DoubleConv2D(\n",
            "      (conv): Sequential(\n",
            "        (0): Conv2d(64, 128, kernel_size=(3, 3), stride=(1, 1), padding=(1, 1))\n",
            "        (1): GroupNorm(32, 128, eps=1e-05, affine=True)\n",
            "        (2): SiLU(inplace=True)\n",
            "        (3): Conv2d(128, 128, kernel_size=(3, 3), stride=(1, 1), padding=(1, 1))\n",
            "        (4): GroupNorm(32, 128, eps=1e-05, affine=True)\n",
            "        (5): SiLU(inplace=True)\n",
            "      )\n",
            "    )\n",
            "    (4): DoubleConv2D(\n",
            "      (conv): Sequential(\n",
            "        (0): Conv2d(128, 256, kernel_size=(3, 3), stride=(1, 1), padding=(1, 1))\n",
            "        (1): GroupNorm(64, 256, eps=1e-05, affine=True)\n",
            "        (2): SiLU(inplace=True)\n",
            "        (3): Conv2d(256, 256, kernel_size=(3, 3), stride=(1, 1), padding=(1, 1))\n",
            "        (4): GroupNorm(64, 256, eps=1e-05, affine=True)\n",
            "        (5): SiLU(inplace=True)\n",
            "      )\n",
            "    )\n",
            "  )\n",
            "  (pool): MaxPool2d(kernel_size=2, stride=2, padding=0, dilation=1, ceil_mode=False)\n",
            "  (up): ModuleList(\n",
            "    (0): ConvTranspose2d(256, 128, kernel_size=(2, 2), stride=(2, 2))\n",
            "    (1): ConvTranspose2d(128, 64, kernel_size=(2, 2), stride=(2, 2))\n",
            "    (2): ConvTranspose2d(64, 32, kernel_size=(2, 2), stride=(2, 2))\n",
            "    (3): ConvTranspose2d(32, 16, kernel_size=(2, 2), stride=(2, 2))\n",
            "  )\n",
            "  (decoder): ModuleList(\n",
            "    (0): DoubleConv2D(\n",
            "      (conv): Sequential(\n",
            "        (0): Conv2d(256, 128, kernel_size=(3, 3), stride=(1, 1), padding=(1, 1))\n",
            "        (1): GroupNorm(32, 128, eps=1e-05, affine=True)\n",
            "        (2): SiLU(inplace=True)\n",
            "        (3): Conv2d(128, 128, kernel_size=(3, 3), stride=(1, 1), padding=(1, 1))\n",
            "        (4): GroupNorm(32, 128, eps=1e-05, affine=True)\n",
            "        (5): SiLU(inplace=True)\n",
            "      )\n",
            "    )\n",
            "    (1): DoubleConv2D(\n",
            "      (conv): Sequential(\n",
            "        (0): Conv2d(128, 64, kernel_size=(3, 3), stride=(1, 1), padding=(1, 1))\n",
            "        (1): GroupNorm(16, 64, eps=1e-05, affine=True)\n",
            "        (2): SiLU(inplace=True)\n",
            "        (3): Conv2d(64, 64, kernel_size=(3, 3), stride=(1, 1), padding=(1, 1))\n",
            "        (4): GroupNorm(16, 64, eps=1e-05, affine=True)\n",
            "        (5): SiLU(inplace=True)\n",
            "      )\n",
            "    )\n",
            "    (2): DoubleConv2D(\n",
            "      (conv): Sequential(\n",
            "        (0): Conv2d(64, 32, kernel_size=(3, 3), stride=(1, 1), padding=(1, 1))\n",
            "        (1): GroupNorm(8, 32, eps=1e-05, affine=True)\n",
            "        (2): SiLU(inplace=True)\n",
            "        (3): Conv2d(32, 32, kernel_size=(3, 3), stride=(1, 1), padding=(1, 1))\n",
            "        (4): GroupNorm(8, 32, eps=1e-05, affine=True)\n",
            "        (5): SiLU(inplace=True)\n",
            "      )\n",
            "    )\n",
            "    (3): DoubleConv2D(\n",
            "      (conv): Sequential(\n",
            "        (0): Conv2d(32, 16, kernel_size=(3, 3), stride=(1, 1), padding=(1, 1))\n",
            "        (1): GroupNorm(4, 16, eps=1e-05, affine=True)\n",
            "        (2): SiLU(inplace=True)\n",
            "        (3): Conv2d(16, 16, kernel_size=(3, 3), stride=(1, 1), padding=(1, 1))\n",
            "        (4): GroupNorm(4, 16, eps=1e-05, affine=True)\n",
            "        (5): SiLU(inplace=True)\n",
            "      )\n",
            "    )\n",
            "  )\n",
            "  (output): Conv2d(16, 3, kernel_size=(3, 3), stride=(1, 1), padding=(1, 1))\n",
            ")\n"
          ]
        }
      ]
    }
  ]
}